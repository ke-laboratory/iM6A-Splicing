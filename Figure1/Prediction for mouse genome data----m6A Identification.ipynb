{
 "cells": [
  {
   "cell_type": "code",
   "execution_count": 1,
   "metadata": {},
   "outputs": [],
   "source": [
    "import glob,os\n",
    "import numpy as np\n",
    "import pandas as pd"
   ]
  },
  {
   "cell_type": "markdown",
   "metadata": {},
   "source": [
    "### Read multiple files"
   ]
  },
  {
   "cell_type": "code",
   "execution_count": 2,
   "metadata": {},
   "outputs": [],
   "source": [
    "path = \"OutputIL\""
   ]
  },
  {
   "cell_type": "code",
   "execution_count": 3,
   "metadata": {},
   "outputs": [],
   "source": [
    "file = glob.glob(os.path.join(path, \"*.bed\"))"
   ]
  },
  {
   "cell_type": "code",
   "execution_count": 4,
   "metadata": {},
   "outputs": [],
   "source": [
    "d = []\n",
    "for f in file:\n",
    "    d.append(pd.read_table(f))"
   ]
  },
  {
   "cell_type": "markdown",
   "metadata": {},
   "source": [
    "### Delete empty dataframe"
   ]
  },
  {
   "cell_type": "code",
   "execution_count": 5,
   "metadata": {},
   "outputs": [],
   "source": [
    "for i in range(len(d))[::-1]:\n",
    "    if len(d[i]) == 0:\n",
    "        del d[i]"
   ]
  },
  {
   "cell_type": "code",
   "execution_count": 6,
   "metadata": {},
   "outputs": [],
   "source": [
    "Data = pd.concat(d)"
   ]
  },
  {
   "cell_type": "markdown",
   "metadata": {},
   "source": [
    "### Get iM6A sites"
   ]
  },
  {
   "cell_type": "markdown",
   "metadata": {},
   "source": [
    "#### For positive strand"
   ]
  },
  {
   "cell_type": "code",
   "execution_count": 9,
   "metadata": {},
   "outputs": [],
   "source": [
    "Positive = Data[Data[\"strand\"] == \"+\"]"
   ]
  },
  {
   "cell_type": "code",
   "execution_count": 10,
   "metadata": {},
   "outputs": [],
   "source": [
    "Positive[\"Start\"] = Positive[\"Start\"] + 1\n",
    "Positive[\"End\"] = Positive[\"End\"] + 1"
   ]
  },
  {
   "cell_type": "markdown",
   "metadata": {},
   "source": [
    "#### For negative strand"
   ]
  },
  {
   "cell_type": "code",
   "execution_count": 13,
   "metadata": {},
   "outputs": [],
   "source": [
    "Negative = Data[Data[\"strand\"] == \"-\"]"
   ]
  },
  {
   "cell_type": "code",
   "execution_count": 15,
   "metadata": {},
   "outputs": [],
   "source": [
    "Negative[\"Start\"] = Negative[\"Start\"] - 1\n",
    "Negative[\"End\"] = Negative[\"End\"] - 1"
   ]
  },
  {
   "cell_type": "code",
   "execution_count": 17,
   "metadata": {},
   "outputs": [],
   "source": [
    "iM6A = Positive.append(Negative)\n",
    "iM6A = iM6A.reset_index(drop = True)"
   ]
  },
  {
   "cell_type": "code",
   "execution_count": 20,
   "metadata": {},
   "outputs": [],
   "source": [
    "iM6A = iM6A[[\"chrom\", \"Start\", \"End\", \"name\", \"Probabilty\", \"strand\"]]"
   ]
  },
  {
   "cell_type": "code",
   "execution_count": 21,
   "metadata": {},
   "outputs": [],
   "source": [
    "iM6A[\"End\"] = iM6A[\"End\"] + 1"
   ]
  },
  {
   "cell_type": "code",
   "execution_count": null,
   "metadata": {},
   "outputs": [],
   "source": [
    "iM6A[\"Start\"] = iM6A[\"Start\"]-2\n",
    "iM6A[\"End\"] = iM6A[\"End\"]+2"
   ]
  },
  {
   "cell_type": "code",
   "execution_count": null,
   "metadata": {},
   "outputs": [],
   "source": [
    "iM6A.to_csv(\"Temp/RAC.bed\", sep=\"\\t\", header=False, index=False)"
   ]
  },
  {
   "cell_type": "code",
   "execution_count": null,
   "metadata": {},
   "outputs": [],
   "source": [
    "!bedtools getfasta -s -bed Temp/RAC.bed -fi /home/morgenlefay/Reference/Fasta/mm10.fa -fo Temp/RAC.txt"
   ]
  },
  {
   "cell_type": "code",
   "execution_count": null,
   "metadata": {},
   "outputs": [],
   "source": [
    "from Bio import SeqIO"
   ]
  },
  {
   "cell_type": "code",
   "execution_count": null,
   "metadata": {},
   "outputs": [],
   "source": [
    "meta=[]\n",
    "sequence=[]\n",
    "seq = (\"Temp/RAC.txt\")\n",
    "for seq_record in SeqIO.parse(seq, \"fasta\"):\n",
    "    meta.append(str(seq_record.id))\n",
    "    sequence.append(str(seq_record.seq))"
   ]
  },
  {
   "cell_type": "code",
   "execution_count": null,
   "metadata": {},
   "outputs": [],
   "source": [
    "Fasta = pd.DataFrame(data ={'Meta':meta,'Motif':sequence})"
   ]
  },
  {
   "cell_type": "code",
   "execution_count": null,
   "metadata": {},
   "outputs": [],
   "source": [
    "Result = pd.merge(iM6A, Fasta, left_index=True, right_index=True, how='outer')"
   ]
  },
  {
   "cell_type": "code",
   "execution_count": null,
   "metadata": {},
   "outputs": [],
   "source": [
    "Result[\"Motif\"] = Result[\"Motif\"].str.upper()"
   ]
  },
  {
   "cell_type": "code",
   "execution_count": null,
   "metadata": {},
   "outputs": [],
   "source": [
    "Result = Result[(Result[\"Motif\"]==\"AAACA\") | (Result[\"Motif\"]==\"AAACC\") | (Result[\"Motif\"]==\"AAACG\") | (Result[\"Motif\"]==\"AAACT\") | \\\n",
    "                (Result[\"Motif\"]==\"AGACA\") | (Result[\"Motif\"]==\"AGACC\") | (Result[\"Motif\"]==\"AGACG\") | (Result[\"Motif\"]==\"AGACT\") | \\\n",
    "                (Result[\"Motif\"]==\"CAACA\") | (Result[\"Motif\"]==\"CAACC\") | (Result[\"Motif\"]==\"CAACG\") | (Result[\"Motif\"]==\"CAACT\") | \\\n",
    "                (Result[\"Motif\"]==\"CGACA\") | (Result[\"Motif\"]==\"CGACC\") | (Result[\"Motif\"]==\"CGACG\") | (Result[\"Motif\"]==\"CGACT\") | \\\n",
    "                (Result[\"Motif\"]==\"GAACA\") | (Result[\"Motif\"]==\"GAACC\") | (Result[\"Motif\"]==\"GAACG\") | (Result[\"Motif\"]==\"GAACT\") | \\\n",
    "                (Result[\"Motif\"]==\"GGACA\") | (Result[\"Motif\"]==\"GGACC\") | (Result[\"Motif\"]==\"GGACG\") | (Result[\"Motif\"]==\"GGACT\") | \\\n",
    "                (Result[\"Motif\"]==\"TAACA\") | (Result[\"Motif\"]==\"TAACC\") | (Result[\"Motif\"]==\"TAACG\") | (Result[\"Motif\"]==\"TAACT\") | \\\n",
    "                (Result[\"Motif\"]==\"TGACA\") | (Result[\"Motif\"]==\"TGACC\") | (Result[\"Motif\"]==\"TGACG\") | (Result[\"Motif\"]==\"TGACT\")]"
   ]
  },
  {
   "cell_type": "code",
   "execution_count": null,
   "metadata": {},
   "outputs": [],
   "source": [
    "Result = Result.reset_index(drop = True)"
   ]
  },
  {
   "cell_type": "code",
   "execution_count": null,
   "metadata": {},
   "outputs": [],
   "source": [
    "Result.drop([\"Meta\", \"Motif\"], axis=1, inplace=True)"
   ]
  },
  {
   "cell_type": "code",
   "execution_count": null,
   "metadata": {},
   "outputs": [],
   "source": [
    "iM6A = Result\n",
    "iM6A[\"Start\"] = iM6A[\"Start\"]+2\n",
    "iM6A[\"End\"] = iM6A[\"End\"]-2"
   ]
  },
  {
   "cell_type": "code",
   "execution_count": null,
   "metadata": {},
   "outputs": [],
   "source": [
    "iM6A"
   ]
  },
  {
   "cell_type": "code",
   "execution_count": null,
   "metadata": {},
   "outputs": [],
   "source": [
    "iM6A = iM6A.sort_values(by=[\"chrom\",\"Start\"], axis=0, ascending=True)\n",
    "iM6A = iM6A.reset_index(drop = True)"
   ]
  },
  {
   "cell_type": "code",
   "execution_count": null,
   "metadata": {},
   "outputs": [],
   "source": [
    "iM6A.to_csv(\"iM6A_mouse_RAC_IL.csv\",index=0)"
   ]
  },
  {
   "cell_type": "code",
   "execution_count": null,
   "metadata": {},
   "outputs": [],
   "source": []
  },
  {
   "cell_type": "code",
   "execution_count": null,
   "metadata": {},
   "outputs": [],
   "source": []
  },
  {
   "cell_type": "code",
   "execution_count": null,
   "metadata": {},
   "outputs": [],
   "source": []
  },
  {
   "cell_type": "code",
   "execution_count": null,
   "metadata": {},
   "outputs": [],
   "source": []
  },
  {
   "cell_type": "code",
   "execution_count": null,
   "metadata": {},
   "outputs": [],
   "source": []
  },
  {
   "cell_type": "code",
   "execution_count": null,
   "metadata": {},
   "outputs": [],
   "source": []
  },
  {
   "cell_type": "code",
   "execution_count": null,
   "metadata": {},
   "outputs": [],
   "source": []
  }
 ],
 "metadata": {
  "kernelspec": {
   "display_name": "Python 3",
   "language": "python",
   "name": "python3"
  },
  "language_info": {
   "codemirror_mode": {
    "name": "ipython",
    "version": 3
   },
   "file_extension": ".py",
   "mimetype": "text/x-python",
   "name": "python",
   "nbconvert_exporter": "python",
   "pygments_lexer": "ipython3",
   "version": "3.8.5"
  }
 },
 "nbformat": 4,
 "nbformat_minor": 4
}
