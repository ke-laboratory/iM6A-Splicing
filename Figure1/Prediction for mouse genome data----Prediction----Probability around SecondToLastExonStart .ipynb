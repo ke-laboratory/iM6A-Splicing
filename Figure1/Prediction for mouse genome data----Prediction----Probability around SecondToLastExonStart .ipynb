{
 "cells": [
  {
   "cell_type": "code",
   "execution_count": 1,
   "metadata": {},
   "outputs": [],
   "source": [
    "import sys\n",
    "sys.path.append(\"/pod/2/ke-lab/LUOZ/Singularity/m6AAIpy2\")"
   ]
  },
  {
   "cell_type": "code",
   "execution_count": 2,
   "metadata": {},
   "outputs": [
    {
     "name": "stderr",
     "output_type": "stream",
     "text": [
      "Using TensorFlow backend.\n"
     ]
    }
   ],
   "source": [
    "from keras.models import load_model\n",
    "from pkg_resources import resource_filename\n",
    "import numpy as np\n",
    "import pandas as pd\n",
    "from Bio.Seq import Seq\n",
    "import keras.backend as kb"
   ]
  },
  {
   "cell_type": "code",
   "execution_count": 3,
   "metadata": {},
   "outputs": [],
   "source": [
    "def one_hot_encode(seq):\n",
    "\n",
    "    map = np.asarray([[0, 0, 0, 0],\n",
    "                      [1, 0, 0, 0],\n",
    "                      [0, 1, 0, 0],\n",
    "                      [0, 0, 1, 0],\n",
    "                      [0, 0, 0, 1]])\n",
    "\n",
    "    seq = seq.upper().replace('A', '\\x01').replace('C', '\\x02')\n",
    "    seq = seq.replace('G', '\\x03').replace('T', '\\x04').replace('N', '\\x00')\n",
    "\n",
    "    return map[np.fromstring(seq, np.int8) % 5]"
   ]
  },
  {
   "cell_type": "code",
   "execution_count": 4,
   "metadata": {},
   "outputs": [],
   "source": [
    "def categorical_crossentropy_2d(y_true, y_pred):\n",
    "    # Standard categorical cross entropy for sequence outputs\n",
    "\n",
    "    return - kb.mean(y_true[:, :, 0]*kb.log(y_pred[:, :, 0]+1e-10)\n",
    "                   + y_true[:, :, 1]*kb.log(y_pred[:, :, 1]+1e-10))"
   ]
  },
  {
   "cell_type": "code",
   "execution_count": 5,
   "metadata": {},
   "outputs": [],
   "source": [
    "context = 10000"
   ]
  },
  {
   "cell_type": "code",
   "execution_count": 6,
   "metadata": {},
   "outputs": [],
   "source": [
    "paths = ('/pod/2/ke-lab/LUOZ/iM6A/Test/mouseRAC10000_c{}.h5'.format(x) for x in range(1, 6))"
   ]
  },
  {
   "cell_type": "code",
   "execution_count": 7,
   "metadata": {},
   "outputs": [
    {
     "name": "stdout",
     "output_type": "stream",
     "text": [
      "WARNING:tensorflow:From /pod/2/ke-lab/LUOZ/Singularity/m6AAIpy2/keras/backend/tensorflow_backend.py:1154: calling reduce_max (from tensorflow.python.ops.math_ops) with keep_dims is deprecated and will be removed in a future version.\n",
      "Instructions for updating:\n",
      "keep_dims is deprecated, use keepdims instead\n",
      "WARNING:tensorflow:From /pod/2/ke-lab/LUOZ/Singularity/m6AAIpy2/keras/backend/tensorflow_backend.py:1190: calling reduce_sum (from tensorflow.python.ops.math_ops) with keep_dims is deprecated and will be removed in a future version.\n",
      "Instructions for updating:\n",
      "keep_dims is deprecated, use keepdims instead\n",
      "WARNING:tensorflow:From /pod/2/ke-lab/LUOZ/Singularity/m6AAIpy2/keras/backend/tensorflow_backend.py:1297: calling reduce_mean (from tensorflow.python.ops.math_ops) with keep_dims is deprecated and will be removed in a future version.\n",
      "Instructions for updating:\n",
      "keep_dims is deprecated, use keepdims instead\n"
     ]
    }
   ],
   "source": [
    "models = [load_model(y, custom_objects={'categorical_crossentropy_2d': categorical_crossentropy_2d}) for y in paths]"
   ]
  },
  {
   "cell_type": "code",
   "execution_count": 8,
   "metadata": {},
   "outputs": [
    {
     "data": {
      "text/plain": [
       "[<keras.engine.training.Model at 0x2aaab17db190>,\n",
       " <keras.engine.training.Model at 0x2aac1bf3f210>,\n",
       " <keras.engine.training.Model at 0x2aac628549d0>,\n",
       " <keras.engine.training.Model at 0x2aacc51eb850>,\n",
       " <keras.engine.training.Model at 0x2ab4856ad310>]"
      ]
     },
     "execution_count": 8,
     "metadata": {},
     "output_type": "execute_result"
    }
   ],
   "source": [
    "models"
   ]
  },
  {
   "cell_type": "markdown",
   "metadata": {},
   "source": [
    "### Read data"
   ]
  },
  {
   "cell_type": "code",
   "execution_count": 9,
   "metadata": {},
   "outputs": [],
   "source": [
    "Fasta = pd.read_csv(\"Temp/mm10_LastIntron_Fasta.csv\")"
   ]
  },
  {
   "cell_type": "markdown",
   "metadata": {},
   "source": [
    "### Select positive strand"
   ]
  },
  {
   "cell_type": "code",
   "execution_count": 13,
   "metadata": {},
   "outputs": [],
   "source": [
    "Fasta_Pos = Fasta[Fasta[\"strand\"]==\"+\"]"
   ]
  },
  {
   "cell_type": "code",
   "execution_count": 14,
   "metadata": {},
   "outputs": [],
   "source": [
    "Fasta_Pos = Fasta_Pos.reset_index(drop = True)"
   ]
  },
  {
   "cell_type": "code",
   "execution_count": 16,
   "metadata": {},
   "outputs": [],
   "source": [
    "PreSequence = Fasta_Pos[\"PreSequence\"].tolist()\n",
    "LastIntronSequence = Fasta_Pos[\"LastIntronSequence\"].tolist()\n",
    "LastExonSequence = Fasta_Pos[\"LastExonSequence\"].tolist()\n",
    "GeneLength = Fasta_Pos[\"GeneLength\"].tolist()"
   ]
  },
  {
   "cell_type": "code",
   "execution_count": 17,
   "metadata": {},
   "outputs": [
    {
     "name": "stderr",
     "output_type": "stream",
     "text": [
      "/usr/local/lib/python2.7/dist-packages/ipykernel_launcher.py:12: DeprecationWarning: The binary mode of fromstring is deprecated, as it behaves surprisingly on unicode inputs. Use frombuffer instead\n",
      "  if sys.path[0] == '':\n"
     ]
    }
   ],
   "source": [
    "df = pd.DataFrame(range(-1000,1001),columns=[\"index\"])\n",
    "for i in range(len(Fasta_Pos)):\n",
    "    Pre = PreSequence[i]\n",
    "    LastIntron = LastIntronSequence[i]\n",
    "    LastExon = LastExonSequence[i]\n",
    "    \n",
    "    input_sequence = Pre + LastIntron + LastExon\n",
    "\n",
    "    x = one_hot_encode('N'*(context//2) + input_sequence + 'N'*(context//2))[None, :]\n",
    "    y = np.mean([models[m].predict(x) for m in range(5)], axis=0)\n",
    "    m6AAI_prob = y[0, :, 1]\n",
    "    m6AAI_prob = m6AAI_prob.tolist()\n",
    "\n",
    "    \n",
    "    # Define exon location\n",
    "    Exon = []\n",
    "    a = Fasta_Pos.loc[i, \"exonStarts\"].split(\",\")[0:-1]\n",
    "    b = Fasta_Pos.loc[i, \"exonEnds\"].split(\",\")[0:-1]\n",
    "    A = [int(u) for u in a]\n",
    "    B = [int(v) for v in b]\n",
    "    Exon = A + B\n",
    "    Exon = sorted(Exon)\n",
    "    \n",
    "    # Define length of exon and intron\n",
    "    Length = []\n",
    "    for j in range(1,len(Exon),1):\n",
    "        length = Exon[j] - Exon[-1 + j]\n",
    "        Length.append(length)\n",
    "    \n",
    "    CumSum = []\n",
    "    Sum = 0\n",
    "    for k in Length:\n",
    "        Sum = Sum + k\n",
    "        CumSum.append(Sum)\n",
    "\n",
    "    # Define probability in cDNA\n",
    "    First_prob = [m6AAI_prob[0:CumSum[0]]]\n",
    "    for m in range(1,len(CumSum),1):\n",
    "        prob = m6AAI_prob[(CumSum[m-1]):(CumSum[m])]\n",
    "        First_prob.append(prob)\n",
    "    \n",
    "    Probability = []\n",
    "    for n in range(0,len(First_prob),2):\n",
    "        List = First_prob[n]\n",
    "        Probability.append(List)\n",
    "\n",
    "    iM6A_prob = []\n",
    "    for t in Probability:\n",
    "        iM6A_prob = iM6A_prob + t\n",
    "        \n",
    "    Start = 0\n",
    "    for t in range(len(Probability)-2):\n",
    "        Start = Start + len(Probability[t])        \n",
    "    \n",
    "    Pre = iM6A_prob[0:Start]\n",
    "    Last = iM6A_prob[Start:]\n",
    "    \n",
    "    if len(Pre) < 1000:\n",
    "        Pre = [0]*(1000-Start) + Pre\n",
    "    if len(Pre) >= 1000:\n",
    "        Pre = Pre[-1000:]\n",
    "    \n",
    "    if len(Last) < 1001:\n",
    "        Last = Last + [0]*(1001-len(Last))\n",
    "    if len(Last) >= 1001:\n",
    "        Last = Last[0:1001]\n",
    "    \n",
    "    New = np.array(Pre + Last)\n",
    "    New = pd.DataFrame({Fasta_Pos.loc[i,\"name\"]:New})\n",
    "    \n",
    "    df = pd.merge(df, New, left_index=True, right_index=True)        "
   ]
  },
  {
   "cell_type": "markdown",
   "metadata": {},
   "source": [
    "### Select negative strand"
   ]
  },
  {
   "cell_type": "code",
   "execution_count": 18,
   "metadata": {},
   "outputs": [],
   "source": [
    "Fasta_Neg = Fasta[Fasta[\"strand\"]==\"-\"]"
   ]
  },
  {
   "cell_type": "code",
   "execution_count": 19,
   "metadata": {},
   "outputs": [],
   "source": [
    "Fasta_Neg = Fasta_Neg.reset_index(drop = True)"
   ]
  },
  {
   "cell_type": "code",
   "execution_count": 21,
   "metadata": {},
   "outputs": [],
   "source": [
    "PreSequence = Fasta_Neg[\"PreSequence\"].tolist()\n",
    "LastIntronSequence = Fasta_Neg[\"LastIntronSequence\"].tolist()\n",
    "LastExonSequence = Fasta_Neg[\"LastExonSequence\"].tolist()\n",
    "GeneLength = Fasta_Neg[\"GeneLength\"].tolist()"
   ]
  },
  {
   "cell_type": "code",
   "execution_count": 22,
   "metadata": {},
   "outputs": [
    {
     "name": "stderr",
     "output_type": "stream",
     "text": [
      "/usr/local/lib/python2.7/dist-packages/ipykernel_launcher.py:12: DeprecationWarning: The binary mode of fromstring is deprecated, as it behaves surprisingly on unicode inputs. Use frombuffer instead\n",
      "  if sys.path[0] == '':\n"
     ]
    }
   ],
   "source": [
    "for i in range(len(Fasta_Neg)):\n",
    "    Pre = PreSequence[i]\n",
    "    LastIntron = LastIntronSequence[i]\n",
    "    LastExon = LastExonSequence[i]    \n",
    "    \n",
    "    input_sequence = Pre + LastIntron + LastExon\n",
    "    \n",
    "    x = one_hot_encode('N'*(context//2) + input_sequence + 'N'*(context//2))[None, :]\n",
    "    y = np.mean([models[m].predict(x) for m in range(5)], axis=0)\n",
    "    m6AAI_prob = y[0, :, 1]\n",
    "    m6AAI_prob = m6AAI_prob.tolist()\n",
    "\n",
    "    \n",
    "    # Define exon location\n",
    "    Exon = []\n",
    "    a = Fasta_Neg.loc[i, \"exonStarts\"].split(\",\")[0:-1]\n",
    "    b = Fasta_Neg.loc[i, \"exonEnds\"].split(\",\")[0:-1]\n",
    "    A = [int(u) for u in a]\n",
    "    B = [int(v) for v in b]\n",
    "    Exon = A + B\n",
    "    Exon = sorted(Exon)\n",
    "    \n",
    "    # Define length of exon and intron\n",
    "    Length = []\n",
    "    for j in range(1,len(Exon),1):\n",
    "        length = Exon[j] - Exon[-1 + j]\n",
    "        Length.append(length)\n",
    "    Length = Length[::-1]\n",
    "    \n",
    "    CumSum = []\n",
    "    Sum = 0\n",
    "    for k in Length:\n",
    "        Sum = Sum + k\n",
    "        CumSum.append(Sum)\n",
    "\n",
    "    # Define probability in cDNA\n",
    "    First_prob = [m6AAI_prob[0:CumSum[0]]]\n",
    "    for m in range(1,len(CumSum),1):\n",
    "        prob = m6AAI_prob[(CumSum[m-1]):(CumSum[m])]\n",
    "        First_prob.append(prob)\n",
    "    \n",
    "    Probability = []\n",
    "    for n in range(0,len(First_prob),2):\n",
    "        List = First_prob[n]\n",
    "        Probability.append(List)\n",
    "\n",
    "    iM6A_prob = []\n",
    "    for t in Probability:\n",
    "        iM6A_prob = iM6A_prob + t\n",
    "        \n",
    "    Start = 0\n",
    "    for t in range(len(Probability)-2):\n",
    "        Start = Start + len(Probability[t])        \n",
    "    \n",
    "    Pre = iM6A_prob[0:Start]\n",
    "    Last = iM6A_prob[Start:]\n",
    "    \n",
    "    if len(Pre) < 1000:\n",
    "        Pre = [0]*(1000-Start) + Pre\n",
    "    if len(Pre) >= 1000:\n",
    "        Pre = Pre[-1000:]\n",
    "    \n",
    "    if len(Last) < 1001:\n",
    "        Last = Last + [0]*(1001-len(Last))\n",
    "    if len(Last) >= 1001:\n",
    "        Last = Last[0:1001]\n",
    "    \n",
    "    New = np.array(Pre + Last)\n",
    "    New = pd.DataFrame({Fasta_Neg.loc[i,\"name\"]:New})\n",
    "    \n",
    "    df = pd.merge(df, New, left_index=True, right_index=True)        "
   ]
  },
  {
   "cell_type": "code",
   "execution_count": 24,
   "metadata": {},
   "outputs": [],
   "source": [
    "df.drop([\"index\"], axis=1, inplace=True)\n",
    "df = df.T"
   ]
  },
  {
   "cell_type": "code",
   "execution_count": 25,
   "metadata": {},
   "outputs": [],
   "source": [
    "df.loc[\"Sum\"] = df.sum()\n",
    "df = df.T"
   ]
  },
  {
   "cell_type": "code",
   "execution_count": 26,
   "metadata": {},
   "outputs": [],
   "source": [
    "Value = df[[\"Sum\"]]"
   ]
  },
  {
   "cell_type": "code",
   "execution_count": 27,
   "metadata": {},
   "outputs": [
    {
     "data": {
      "text/html": [
       "<div>\n",
       "<style scoped>\n",
       "    .dataframe tbody tr th:only-of-type {\n",
       "        vertical-align: middle;\n",
       "    }\n",
       "\n",
       "    .dataframe tbody tr th {\n",
       "        vertical-align: top;\n",
       "    }\n",
       "\n",
       "    .dataframe thead th {\n",
       "        text-align: right;\n",
       "    }\n",
       "</style>\n",
       "<table border=\"1\" class=\"dataframe\">\n",
       "  <thead>\n",
       "    <tr style=\"text-align: right;\">\n",
       "      <th></th>\n",
       "      <th>Sum</th>\n",
       "    </tr>\n",
       "  </thead>\n",
       "  <tbody>\n",
       "    <tr>\n",
       "      <th>0</th>\n",
       "      <td>1.274996</td>\n",
       "    </tr>\n",
       "    <tr>\n",
       "      <th>1</th>\n",
       "      <td>0.676975</td>\n",
       "    </tr>\n",
       "    <tr>\n",
       "      <th>2</th>\n",
       "      <td>2.098657</td>\n",
       "    </tr>\n",
       "    <tr>\n",
       "      <th>3</th>\n",
       "      <td>1.247592</td>\n",
       "    </tr>\n",
       "    <tr>\n",
       "      <th>4</th>\n",
       "      <td>2.088193</td>\n",
       "    </tr>\n",
       "  </tbody>\n",
       "</table>\n",
       "</div>"
      ],
      "text/plain": [
       "        Sum\n",
       "0  1.274996\n",
       "1  0.676975\n",
       "2  2.098657\n",
       "3  1.247592\n",
       "4  2.088193"
      ]
     },
     "execution_count": 27,
     "metadata": {},
     "output_type": "execute_result"
    }
   ],
   "source": [
    "Value.head(5)"
   ]
  },
  {
   "cell_type": "code",
   "execution_count": 28,
   "metadata": {},
   "outputs": [],
   "source": [
    "df.drop([\"Sum\"], axis=1, inplace=True)\n",
    "df = df.T"
   ]
  },
  {
   "cell_type": "code",
   "execution_count": 29,
   "metadata": {},
   "outputs": [],
   "source": [
    "df.loc[\"Number\"] = (df > 0).sum()\n",
    "df = df.T"
   ]
  },
  {
   "cell_type": "code",
   "execution_count": 30,
   "metadata": {},
   "outputs": [],
   "source": [
    "Number = df[[\"Number\"]]"
   ]
  },
  {
   "cell_type": "code",
   "execution_count": 32,
   "metadata": {},
   "outputs": [],
   "source": [
    "Data = pd.concat([Value, Number], axis=1)"
   ]
  },
  {
   "cell_type": "code",
   "execution_count": 33,
   "metadata": {},
   "outputs": [],
   "source": [
    "Data[\"Mean\"] = Data[\"Sum\"]/Data[\"Number\"]"
   ]
  },
  {
   "cell_type": "code",
   "execution_count": 36,
   "metadata": {},
   "outputs": [],
   "source": [
    "Data = Data.head(2000)\n",
    "Sum = []\n",
    "Number = []\n",
    "\n",
    "for j in range(0,len(Data),10):\n",
    "\n",
    "    a = Data.loc[j:(j+9),\"Sum\"]\n",
    "    b = np.mean(a, axis=0)\n",
    "    Sum.append(b)\n",
    "    \n",
    "    a = Data.loc[j:(j+9),\"Number\"]\n",
    "    b = np.mean(a, axis=0)\n",
    "    Number.append(b)\n",
    "\n",
    "Result = pd.DataFrame({\"Index\":range(-1000,1000,10), \"Sum\":Sum, \"Number\":Number})\n",
    "Result[\"Mean\"] = Result[\"Sum\"]/Result[\"Number\"] "
   ]
  },
  {
   "cell_type": "code",
   "execution_count": 38,
   "metadata": {},
   "outputs": [],
   "source": [
    "Result.to_csv(\"Mouse_iM6A_SecondToLastExonStart_10interval.csv\", index=0)"
   ]
  },
  {
   "cell_type": "code",
   "execution_count": null,
   "metadata": {},
   "outputs": [],
   "source": []
  },
  {
   "cell_type": "code",
   "execution_count": null,
   "metadata": {},
   "outputs": [],
   "source": []
  },
  {
   "cell_type": "code",
   "execution_count": null,
   "metadata": {},
   "outputs": [],
   "source": []
  },
  {
   "cell_type": "code",
   "execution_count": null,
   "metadata": {},
   "outputs": [],
   "source": []
  },
  {
   "cell_type": "code",
   "execution_count": null,
   "metadata": {},
   "outputs": [],
   "source": []
  }
 ],
 "metadata": {
  "kernelspec": {
   "display_name": "Python 3",
   "language": "python",
   "name": "python3"
  },
  "language_info": {
   "codemirror_mode": {
    "name": "ipython",
    "version": 3
   },
   "file_extension": ".py",
   "mimetype": "text/x-python",
   "name": "python",
   "nbconvert_exporter": "python",
   "pygments_lexer": "ipython3",
   "version": "3.8.5"
  }
 },
 "nbformat": 4,
 "nbformat_minor": 2
}
